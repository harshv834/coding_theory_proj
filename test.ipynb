{
 "cells": [
  {
   "cell_type": "code",
   "execution_count": 1,
   "id": "15ebd89c-d807-4afb-8267-6c5d17028d40",
   "metadata": {},
   "outputs": [],
   "source": [
    "%load_ext autoreload\n",
    "%autoreload 2"
   ]
  },
  {
   "cell_type": "code",
   "execution_count": 2,
   "id": "f5284c0d-adf4-4472-827e-096ad022f970",
   "metadata": {},
   "outputs": [
    {
     "ename": "ModuleNotFoundError",
     "evalue": "No module named 'galois'",
     "output_type": "error",
     "traceback": [
      "\u001b[0;31m---------------------------------------------------------------------------\u001b[0m",
      "\u001b[0;31mModuleNotFoundError\u001b[0m                       Traceback (most recent call last)",
      "Cell \u001b[0;32mIn [2], line 1\u001b[0m\n\u001b[0;32m----> 1\u001b[0m \u001b[38;5;28;01mfrom\u001b[39;00m \u001b[38;5;21;01mdecoder\u001b[39;00m \u001b[38;5;28;01mimport\u001b[39;00m (\n\u001b[1;32m      2\u001b[0m     BitSelector,\n\u001b[1;32m      3\u001b[0m     Metric,\n\u001b[1;32m      4\u001b[0m     BitFlipTopL,\n\u001b[1;32m      5\u001b[0m     BitFlipAlgo\n\u001b[1;32m      6\u001b[0m )\n\u001b[1;32m      7\u001b[0m \u001b[38;5;28;01mfrom\u001b[39;00m \u001b[38;5;21;01mutils\u001b[39;00m \u001b[38;5;28;01mimport\u001b[39;00m Stats, add_error, GF\n\u001b[1;32m      8\u001b[0m \u001b[38;5;28;01mfrom\u001b[39;00m \u001b[38;5;21;01mtqdm\u001b[39;00m \u001b[38;5;28;01mimport\u001b[39;00m tqdm\n",
      "File \u001b[0;32m/base_vol/courses/coding_theory_proj/decoder.py:4\u001b[0m\n\u001b[1;32m      2\u001b[0m \u001b[38;5;28;01mfrom\u001b[39;00m \u001b[38;5;21;01mtqdm\u001b[39;00m \u001b[38;5;28;01mimport\u001b[39;00m tqdm\n\u001b[1;32m      3\u001b[0m \u001b[38;5;28;01mfrom\u001b[39;00m \u001b[38;5;21;01mabc\u001b[39;00m \u001b[38;5;28;01mimport\u001b[39;00m ABC\n\u001b[0;32m----> 4\u001b[0m \u001b[38;5;28;01mfrom\u001b[39;00m \u001b[38;5;21;01mutils\u001b[39;00m \u001b[38;5;28;01mimport\u001b[39;00m GF\n\u001b[1;32m      6\u001b[0m METRIC_CHOICES \u001b[38;5;241m=\u001b[39m [\u001b[38;5;124m\"\u001b[39m\u001b[38;5;124msat\u001b[39m\u001b[38;5;124m\"\u001b[39m, \u001b[38;5;124m\"\u001b[39m\u001b[38;5;124munsat\u001b[39m\u001b[38;5;124m\"\u001b[39m, \u001b[38;5;124m\"\u001b[39m\u001b[38;5;124munsat_sat\u001b[39m\u001b[38;5;124m\"\u001b[39m]\n\u001b[1;32m      7\u001b[0m SELECTOR_CHOICES \u001b[38;5;241m=\u001b[39m [\u001b[38;5;124m\"\u001b[39m\u001b[38;5;124mgreedy\u001b[39m\u001b[38;5;124m\"\u001b[39m, \u001b[38;5;124m\"\u001b[39m\u001b[38;5;124mweighted\u001b[39m\u001b[38;5;124m\"\u001b[39m]\n",
      "File \u001b[0;32m/base_vol/courses/coding_theory_proj/utils.py:2\u001b[0m\n\u001b[1;32m      1\u001b[0m \u001b[38;5;28;01mimport\u001b[39;00m \u001b[38;5;21;01mnumpy\u001b[39;00m \u001b[38;5;28;01mas\u001b[39;00m \u001b[38;5;21;01mnp\u001b[39;00m\n\u001b[0;32m----> 2\u001b[0m \u001b[38;5;28;01mimport\u001b[39;00m \u001b[38;5;21;01mgalois\u001b[39;00m\n\u001b[1;32m      3\u001b[0m GF \u001b[38;5;241m=\u001b[39m galois\u001b[38;5;241m.\u001b[39mGF(\u001b[38;5;241m2\u001b[39m)\n\u001b[1;32m      5\u001b[0m \u001b[38;5;28;01mclass\u001b[39;00m \u001b[38;5;21;01mStats\u001b[39;00m:\n",
      "\u001b[0;31mModuleNotFoundError\u001b[0m: No module named 'galois'"
     ]
    }
   ],
   "source": [
    "from decoder import (\n",
    "    BitSelector,\n",
    "    Metric,\n",
    "    BitFlipTopL,\n",
    "    BitFlipAlgo\n",
    ")\n",
    "from utils import Stats, add_error, GF\n",
    "from tqdm import tqdm\n",
    "import itertools\n",
    "import numpy as np\n",
    "from pyldpc import make_ldpc, encode\n",
    "import pickle\n",
    "from multiprocessing.pool import ThreadPool as Pool\n"
   ]
  },
  {
   "cell_type": "code",
   "execution_count": 3,
   "id": "56f59b0c-2d5a-48a1-8bc6-8f279f53fa83",
   "metadata": {},
   "outputs": [
    {
     "ename": "ModuleNotFoundError",
     "evalue": "No module named 'galois'",
     "output_type": "error",
     "traceback": [
      "\u001b[0;31m---------------------------------------------------------------------------\u001b[0m",
      "\u001b[0;31mModuleNotFoundError\u001b[0m                       Traceback (most recent call last)",
      "Cell \u001b[0;32mIn [3], line 1\u001b[0m\n\u001b[0;32m----> 1\u001b[0m \u001b[38;5;28;01mimport\u001b[39;00m \u001b[38;5;21;01mgalois\u001b[39;00m\n",
      "\u001b[0;31mModuleNotFoundError\u001b[0m: No module named 'galois'"
     ]
    }
   ],
   "source": [
    "import galois"
   ]
  },
  {
   "cell_type": "code",
   "execution_count": 5,
   "id": "f04cf6d1-6434-42ac-92cb-f5357e25b585",
   "metadata": {},
   "outputs": [
    {
     "name": "stdout",
     "output_type": "stream",
     "text": [
      "Requirement already satisfied: galois in /opt/conda/envs/pyldpc-env/lib/python3.10/site-packages (0.2.0)\n",
      "Requirement already satisfied: numba<0.57,>=0.53 in /opt/conda/envs/pyldpc-env/lib/python3.10/site-packages (from galois) (0.56.4)\n",
      "Requirement already satisfied: numpy<1.24,>=1.18.4 in /opt/conda/envs/pyldpc-env/lib/python3.10/site-packages (from galois) (1.23.5)\n",
      "Requirement already satisfied: typing-extensions>=4.0.0 in /opt/conda/envs/pyldpc-env/lib/python3.10/site-packages (from galois) (4.4.0)\n",
      "Requirement already satisfied: llvmlite<0.40,>=0.39.0dev0 in /opt/conda/envs/pyldpc-env/lib/python3.10/site-packages (from numba<0.57,>=0.53->galois) (0.39.1)\n",
      "Requirement already satisfied: setuptools in /opt/conda/envs/pyldpc-env/lib/python3.10/site-packages (from numba<0.57,>=0.53->galois) (65.5.1)\n"
     ]
    },
    {
     "ename": "ModuleNotFoundError",
     "evalue": "No module named 'galois'",
     "output_type": "error",
     "traceback": [
      "\u001b[0;31m---------------------------------------------------------------------------\u001b[0m",
      "\u001b[0;31mModuleNotFoundError\u001b[0m                       Traceback (most recent call last)",
      "Cell \u001b[0;32mIn [5], line 2\u001b[0m\n\u001b[1;32m      1\u001b[0m get_ipython()\u001b[38;5;241m.\u001b[39msystem(\u001b[38;5;124m'\u001b[39m\u001b[38;5;124mpip install galois\u001b[39m\u001b[38;5;124m'\u001b[39m)\n\u001b[0;32m----> 2\u001b[0m \u001b[38;5;28;01mimport\u001b[39;00m \u001b[38;5;21;01mgalois\u001b[39;00m\n",
      "\u001b[0;31mModuleNotFoundError\u001b[0m: No module named 'galois'"
     ]
    }
   ],
   "source": [
    "!pip install galois\n",
    "import galois"
   ]
  },
  {
   "cell_type": "code",
   "execution_count": null,
   "id": "3bf93114-92b3-4811-8bd0-a74c2e4c8d04",
   "metadata": {},
   "outputs": [],
   "source": []
  }
 ],
 "metadata": {
  "kernelspec": {
   "display_name": "Python 3 (ipykernel)",
   "language": "python",
   "name": "python3"
  },
  "language_info": {
   "codemirror_mode": {
    "name": "ipython",
    "version": 3
   },
   "file_extension": ".py",
   "mimetype": "text/x-python",
   "name": "python",
   "nbconvert_exporter": "python",
   "pygments_lexer": "ipython3",
   "version": "3.10.6"
  }
 },
 "nbformat": 4,
 "nbformat_minor": 5
}
