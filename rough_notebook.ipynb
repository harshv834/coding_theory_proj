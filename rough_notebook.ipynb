{
 "cells": [
  {
   "cell_type": "code",
   "execution_count": 5,
   "metadata": {},
   "outputs": [],
   "source": [
    "%load_ext autoreload\n",
    "%autoreload 2"
   ]
  },
  {
   "cell_type": "code",
   "execution_count": 8,
   "metadata": {},
   "outputs": [
    {
     "name": "stdout",
     "output_type": "stream",
     "text": [
      "Requirement already satisfied: tqdm in c:\\users\\myros\\anaconda3\\lib\\site-packages (4.59.0)\n",
      "Collecting tqdm\n",
      "  Downloading tqdm-4.64.1-py2.py3-none-any.whl (78 kB)\n",
      "Requirement already satisfied: colorama in c:\\users\\myros\\anaconda3\\lib\\site-packages (from tqdm) (0.4.4)\n",
      "Installing collected packages: tqdm\n",
      "  Attempting uninstall: tqdm\n",
      "    Found existing installation: tqdm 4.59.0\n",
      "    Uninstalling tqdm-4.59.0:\n",
      "      Successfully uninstalled tqdm-4.59.0\n",
      "Successfully installed tqdm-4.64.1\n",
      "Note: you may need to restart the kernel to use updated packages.\n"
     ]
    }
   ],
   "source": [
    "pip install --upgrade tqdm"
   ]
  },
  {
   "cell_type": "code",
   "execution_count": 70,
   "metadata": {},
   "outputs": [],
   "source": [
    "import numpy as np\n",
    "from pyldpc import make_ldpc, encode, decode, get_message\n",
    "\n",
    "n = 20\n",
    "d_v = 4\n",
    "d_c = 5\n",
    "snr = 200\n",
    "H, G = make_ldpc(n, d_v, d_c, systematic=True, sparse=True)\n",
    "k = G.shape[1]\n",
    "v = np.random.randint(2, size=k)\n",
    "y = encode(G, v, snr)\n",
    "d = decode(H, y, snr)\n",
    "x = get_message(G, d)\n",
    "assert abs(x - v).sum() == 0"
   ]
  },
  {
   "cell_type": "code",
   "execution_count": null,
   "metadata": {},
   "outputs": [],
   "source": [
    "i=0\n",
    "while v.shape != (8,):\n",
    "    i+=1\n",
    "    H, G = make_ldpc(n, d_v, d_c, systematic=True, sparse=True)\n",
    "    v = np.random.randint(2, size=G.shape[1])\n",
    "    print('aaaa')\n",
    "print(v.shape)\n",
    "print(i)"
   ]
  },
  {
   "cell_type": "code",
   "execution_count": 78,
   "metadata": {},
   "outputs": [],
   "source": [
    "from decoder import bit_flip_dec"
   ]
  },
  {
   "cell_type": "code",
   "execution_count": 4,
   "metadata": {},
   "outputs": [
    {
     "name": "stderr",
     "output_type": "stream",
     "text": [
      "100%|███████████████████████████████████████████████████████████████████████████| 1000/1000 [00:00<00:00, 21708.75it/s]\n"
     ]
    }
   ],
   "source": [
    "decoded_x = bit_flip_dec(H,y)"
   ]
  },
  {
   "cell_type": "code",
   "execution_count": 6,
   "metadata": {},
   "outputs": [
    {
     "ename": "ValueError",
     "evalue": "operands could not be broadcast together with shapes (6,) (15,) ",
     "output_type": "error",
     "traceback": [
      "\u001b[1;31m---------------------------------------------------------------------------\u001b[0m",
      "\u001b[1;31mValueError\u001b[0m                                Traceback (most recent call last)",
      "\u001b[1;32m<ipython-input-6-ef34db00ff19>\u001b[0m in \u001b[0;36m<module>\u001b[1;34m\u001b[0m\n\u001b[1;32m----> 1\u001b[1;33m \u001b[0mabs\u001b[0m\u001b[1;33m(\u001b[0m\u001b[0mx\u001b[0m \u001b[1;33m-\u001b[0m \u001b[0mdecoded_x\u001b[0m\u001b[1;33m)\u001b[0m\u001b[1;33m.\u001b[0m\u001b[0msum\u001b[0m\u001b[1;33m(\u001b[0m\u001b[1;33m)\u001b[0m \u001b[1;31m#comparison with pyldpc decoder\u001b[0m\u001b[1;33m\u001b[0m\u001b[1;33m\u001b[0m\u001b[0m\n\u001b[0m",
      "\u001b[1;31mValueError\u001b[0m: operands could not be broadcast together with shapes (6,) (15,) "
     ]
    }
   ],
   "source": [
    "abs(x - decoded_x).sum() #comparison with pyldpc decoder"
   ]
  },
  {
   "cell_type": "code",
   "execution_count": 8,
   "metadata": {},
   "outputs": [
    {
     "data": {
      "text/plain": [
       "(15,)"
      ]
     },
     "execution_count": 8,
     "metadata": {},
     "output_type": "execute_result"
    }
   ],
   "source": [
    "abs(x - v).sum() #comparison with input msg"
   ]
  },
  {
   "cell_type": "code",
   "execution_count": 90,
   "metadata": {},
   "outputs": [
    {
     "data": {
      "text/plain": [
       "(20,)"
      ]
     },
     "execution_count": 90,
     "metadata": {},
     "output_type": "execute_result"
    }
   ],
   "source": [
    "y.shape"
   ]
  },
  {
   "cell_type": "code",
   "execution_count": null,
   "metadata": {},
   "outputs": [],
   "source": [
    "from abc import ABC\n",
    "class BaseAlgo(ABC):\n",
    "    def __init__(self, algo_name , algo_params = {}):\n",
    "        super(BaseAlgo, self).__init__()\n",
    "        self.algo_name = algo_name\n",
    "        self.algo_params = algo_params\n",
    "        \n",
    "    \n",
    "    def decode(self, y_err):\n",
    "        pass"
   ]
  },
  {
   "cell_type": "code",
   "execution_count": 91,
   "metadata": {},
   "outputs": [],
   "source": [
    "class Stats():\n",
    "    def __init__(self, l1_dist, absolute_correct, is_codeword):\n",
    "        self.l1_dist = l1_dist\n",
    "        self.absolute_correct = absolute_correct\n",
    "        self.is_codeword = is_codeword"
   ]
  },
  {
   "cell_type": "code",
   "execution_count": 93,
   "metadata": {},
   "outputs": [],
   "source": [
    "import itertools\n",
    "\n",
    "def benchmark(algorithm, codes_per_case, trials_per_code):\n",
    "    stats = {}\n",
    "    n = [10, 100, 1000]\n",
    "    # rate = [0.01, 0.1, 0.5]\n",
    "    frac_of_errs = [0.1, 0.25, 0.4]\n",
    "    cases = list(itertools.product(n, frac_of_errs))\n",
    "    d_v = 4\n",
    "    d_c = 5\n",
    "    snr = 200\n",
    "\n",
    "\n",
    "    for case in cases:\n",
    "        n, frac_of_errs = case\n",
    "        \n",
    "        for code in range(codes_per_case):\n",
    "            H, G = make_ldpc(n, d_v, d_c, systematic=True, sparse=True)\n",
    "            k = G.shape[1]\n",
    "            v = np.random.randint(2, size=k)\n",
    "            y = encode(G, v, snr)\n",
    "            \n",
    "            l1_dist = 0\n",
    "            num_abs_correct = 0\n",
    "            num_valid_codeword = 0\n",
    "            \n",
    "            for trial in range(trials_per_code):\n",
    "                y = add_error(v, int(frac_of_errs*n))\n",
    "                decode_y = algorithm(H,y)\n",
    "                l1_dist += np.absolute(decode_y - y)\n",
    "                num_abs_correct += 1 if decode_y == y else 0\n",
    "                num_valid_codeword += 1 if (H@decode_y).sum() == 0 else 0\n",
    "            \n",
    "            stats[code] = Stats(l1_dist/trials_per_code, num_abs_correct/trials_per_code, num_valid_codeword/trials_per_code)"
   ]
  },
  {
   "cell_type": "code",
   "execution_count": 12,
   "metadata": {},
   "outputs": [
    {
     "name": "stdout",
     "output_type": "stream",
     "text": [
      "[(10, 0.01, 0.1), (10, 0.01, 0.25), (10, 0.01, 0.4), (10, 0.1, 0.1), (10, 0.1, 0.25), (10, 0.1, 0.4), (10, 0.5, 0.1), (10, 0.5, 0.25), (10, 0.5, 0.4), (100, 0.01, 0.1), (100, 0.01, 0.25), (100, 0.01, 0.4), (100, 0.1, 0.1), (100, 0.1, 0.25), (100, 0.1, 0.4), (100, 0.5, 0.1), (100, 0.5, 0.25), (100, 0.5, 0.4), (1000, 0.01, 0.1), (1000, 0.01, 0.25), (1000, 0.01, 0.4), (1000, 0.1, 0.1), (1000, 0.1, 0.25), (1000, 0.1, 0.4), (1000, 0.5, 0.1), (1000, 0.5, 0.25), (1000, 0.5, 0.4)]\n"
     ]
    }
   ],
   "source": [
    "benchmark(1,1,1)"
   ]
  }
 ],
 "metadata": {
  "kernelspec": {
   "display_name": "Python 3",
   "language": "python",
   "name": "python3"
  },
  "language_info": {
   "codemirror_mode": {
    "name": "ipython",
    "version": 3
   },
   "file_extension": ".py",
   "mimetype": "text/x-python",
   "name": "python",
   "nbconvert_exporter": "python",
   "pygments_lexer": "ipython3",
   "version": "3.8.5"
  },
  "vscode": {
   "interpreter": {
    "hash": "25a19fbe0a9132dfb9279d48d161753c6352f8f9478c2e74383d340069b907c3"
   }
  }
 },
 "nbformat": 4,
 "nbformat_minor": 2
}
