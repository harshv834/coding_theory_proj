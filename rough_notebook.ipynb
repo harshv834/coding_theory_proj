{
 "cells": [
  {
   "cell_type": "code",
   "execution_count": 3,
   "metadata": {},
   "outputs": [],
   "source": [
    "%load_ext autoreload\n",
    "%autoreload 2"
   ]
  },
  {
   "cell_type": "code",
   "execution_count": 8,
   "metadata": {},
   "outputs": [
    {
     "name": "stdout",
     "output_type": "stream",
     "text": [
      "Requirement already satisfied: tqdm in c:\\users\\myros\\anaconda3\\lib\\site-packages (4.59.0)\n",
      "Collecting tqdm\n",
      "  Downloading tqdm-4.64.1-py2.py3-none-any.whl (78 kB)\n",
      "Requirement already satisfied: colorama in c:\\users\\myros\\anaconda3\\lib\\site-packages (from tqdm) (0.4.4)\n",
      "Installing collected packages: tqdm\n",
      "  Attempting uninstall: tqdm\n",
      "    Found existing installation: tqdm 4.59.0\n",
      "    Uninstalling tqdm-4.59.0:\n",
      "      Successfully uninstalled tqdm-4.59.0\n",
      "Successfully installed tqdm-4.64.1\n",
      "Note: you may need to restart the kernel to use updated packages.\n"
     ]
    }
   ],
   "source": [
    "pip install --upgrade tqdm"
   ]
  },
  {
   "cell_type": "code",
   "execution_count": 4,
   "metadata": {},
   "outputs": [],
   "source": [
    "import numpy as np\n",
    "from pyldpc import make_ldpc, encode, decode, get_message\n",
    "\n",
    "n = 20\n",
    "d_v = 4\n",
    "d_c = 5\n",
    "snr = 200\n",
    "H, G = make_ldpc(n, d_v, d_c, systematic=True, sparse=True)\n",
    "k = G.shape[1]\n",
    "v = np.random.randint(2, size=k)\n",
    "y = encode(G, v, snr)\n",
    "d = decode(H, y, snr)\n",
    "x = get_message(G, d)\n",
    "assert abs(x - v).sum() == 0"
   ]
  },
  {
   "cell_type": "code",
   "execution_count": null,
   "metadata": {},
   "outputs": [],
   "source": [
    "i=0\n",
    "while v.shape != (8,):\n",
    "    i+=1\n",
    "    H, G = make_ldpc(n, d_v, d_c, systematic=True, sparse=True)\n",
    "    v = np.random.randint(2, size=G.shape[1])\n",
    "    print('aaaa')\n",
    "print(v.shape)\n",
    "print(i)"
   ]
  },
  {
   "cell_type": "code",
   "execution_count": 78,
   "metadata": {},
   "outputs": [],
   "source": [
    "from decoder import bit_flip_dec"
   ]
  },
  {
   "cell_type": "code",
   "execution_count": 4,
   "metadata": {},
   "outputs": [
    {
     "name": "stderr",
     "output_type": "stream",
     "text": [
      "100%|███████████████████████████████████████████████████████████████████████████| 1000/1000 [00:00<00:00, 21708.75it/s]\n"
     ]
    }
   ],
   "source": [
    "decoded_x = bit_flip_dec(H,y)"
   ]
  },
  {
   "cell_type": "code",
   "execution_count": 6,
   "metadata": {},
   "outputs": [
    {
     "ename": "ValueError",
     "evalue": "operands could not be broadcast together with shapes (6,) (15,) ",
     "output_type": "error",
     "traceback": [
      "\u001b[1;31m---------------------------------------------------------------------------\u001b[0m",
      "\u001b[1;31mValueError\u001b[0m                                Traceback (most recent call last)",
      "\u001b[1;32m<ipython-input-6-ef34db00ff19>\u001b[0m in \u001b[0;36m<module>\u001b[1;34m\u001b[0m\n\u001b[1;32m----> 1\u001b[1;33m \u001b[0mabs\u001b[0m\u001b[1;33m(\u001b[0m\u001b[0mx\u001b[0m \u001b[1;33m-\u001b[0m \u001b[0mdecoded_x\u001b[0m\u001b[1;33m)\u001b[0m\u001b[1;33m.\u001b[0m\u001b[0msum\u001b[0m\u001b[1;33m(\u001b[0m\u001b[1;33m)\u001b[0m \u001b[1;31m#comparison with pyldpc decoder\u001b[0m\u001b[1;33m\u001b[0m\u001b[1;33m\u001b[0m\u001b[0m\n\u001b[0m",
      "\u001b[1;31mValueError\u001b[0m: operands could not be broadcast together with shapes (6,) (15,) "
     ]
    }
   ],
   "source": [
    "abs(x - decoded_x).sum() #comparison with pyldpc decoder"
   ]
  },
  {
   "cell_type": "code",
   "execution_count": 8,
   "metadata": {},
   "outputs": [
    {
     "data": {
      "text/plain": [
       "(15,)"
      ]
     },
     "execution_count": 8,
     "metadata": {},
     "output_type": "execute_result"
    }
   ],
   "source": [
    "abs(x - v).sum() #comparison with input msg"
   ]
  },
  {
   "cell_type": "code",
   "execution_count": 90,
   "metadata": {},
   "outputs": [
    {
     "data": {
      "text/plain": [
       "(20,)"
      ]
     },
     "execution_count": 90,
     "metadata": {},
     "output_type": "execute_result"
    }
   ],
   "source": [
    "y.shape"
   ]
  },
  {
   "cell_type": "code",
   "execution_count": 58,
   "metadata": {},
   "outputs": [],
   "source": [
    "from abc import ABC\n",
    "from tqdm import tqdm\n",
    "import numpy as np\n",
    "from pyldpc import make_ldpc, encode, decode, get_message\n",
    "\n",
    "class BaseAlgo(ABC):\n",
    "    def __init__(self, algo_name , algo_params = {}):\n",
    "        super(BaseAlgo, self).__init__()\n",
    "        self.algo_name = algo_name\n",
    "        self.algo_params = algo_params\n",
    "        \n",
    "    \n",
    "    def decode(self, y_err):\n",
    "        raise NotImplementedError\n",
    "\n",
    "class BitFlipAlgo(BaseAlgo):\n",
    "    def __init__(self, algo_name, algo_params = {}):\n",
    "        super(BitFlipAlgo, self).__init__(algo_name=algo_name, algo_params=algo_params)\n",
    "    \n",
    "    def bit_flip(self, H, y_err):\n",
    "        metric = self.algo_params[\"metric\"](H ,y_err)\n",
    "        bit_flip_idx = self.algo_params[\"selector\"](metric, y_err)\n",
    "        new_y = y_err\n",
    "        new_y[bit_flip_idx] = (new_y[bit_flip_idx]  + 1) % 2\n",
    "        return new_y\n",
    "        \n",
    "    def decode(self, H, y_err):\n",
    "        y_list = [y_err]\n",
    "        for i in tqdm(range(self.algo_params[\"max_iter\"])):\n",
    "            syndrome = (H @ y_list[i]) % 2 \n",
    "            if (syndrome == 0).all():\n",
    "                return y_list\n",
    "            else:\n",
    "                y_list.append(self.bit_flip(H, y_list[i]))\n",
    "        return y_list\n",
    "\n",
    "# class ExploreComp(BitFlipAlgo):\n",
    "#     def __init__(self, algo_name, algo_params = {}):\n",
    "#         super(ExploreComp, self).__init__(algo_name=algo_name, algo_params=algo_params)\n",
    "        \n",
    "#     def bit_flip(self, y_err):\n",
    "#         if np.random.rand() < self.algo_params[\"p\"]:\n",
    "#             bit_flip_idx = np.random.choice(y_err.shape[0])\n",
    "#             new_y = y_err\n",
    "#             new_y[bit_flip_idx] = (new_y[bit_flip_idx]+1) % 2\n",
    "#             return new_y\n",
    "#         else:\n",
    "#             return super().bit_flip(y_err)\n",
    "\n",
    "class Metric:\n",
    "    def __init__(self, name):\n",
    "        self.name = name\n",
    "        assert self.name in [\"sat\", \"unsat\", \"unsat_sat\"], \"metric {} not implemented\".format(self.name)\n",
    "    def  __call__(self, H, y_err):\n",
    "        syndrome = (H @ y_err).astype(int) % 2\n",
    "\n",
    "        if self.name in [\"sat\", \"unsat_sat\"]:\n",
    "            satisfied_parity_idx = np.arange(H.shape[0])[syndrome !=0]\n",
    "            num_satisfied = H[satisfied_parity_idx].sum()\n",
    "        if self.name in [\"unsat\", \"unsat_sat\"]:\n",
    "            unsatisfied_parity_idx = np.arange(H.shape[0])[syndrome != 0]\n",
    "            num_unsatisfied = H[unsatisfied_parity_idx].sum()\n",
    "        if self.name  == \"sat\":\n",
    "            return num_satisfied\n",
    "        elif self.name == \"unsat\":\n",
    "            return num_unsatisfied\n",
    "        else:\n",
    "            return num_unsatisfied -  num_satisfied\n",
    "class BitSelector:\n",
    "    def __init__ (self, name, params= {\"lambda\" : 1}):\n",
    "        self.name = name\n",
    "        self.params = params\n",
    "        assert self.name in [\"greedy\", \"weighted\"], \"Bit selection method {} not implemented\".format(self.name)\n",
    "\n",
    "    def __call__(self, metric, y_err):\n",
    "        if self.name == \"greedy\":\n",
    "            return np.argmax(metric)\n",
    "        else:\n",
    "            return np.random.choice(np.arange(metric.shape[0]),p=np.exp(self.params[\"lambda\"]* metric))\n",
    "\n",
    "class ExploreSelector(BitSelector):\n",
    "    def __init__(self, name,params = {\"lambda\": 1, \"p\": 0.2}):\n",
    "        super(ExploreSelector, self).__init__(name = name, params=params)\n",
    "    def __call__(self, metric, y_err):\n",
    "        if np.random.rand() <= self.params[\"p\"]:\n",
    "            return np.random.choice(np.arange(metric.shape[0]))\n",
    "        else:\n",
    "            return super().__call__(metric, y_err)\n",
    "\n",
    "# metric = "
   ]
  },
  {
   "cell_type": "code",
   "execution_count": 45,
   "metadata": {},
   "outputs": [],
   "source": [
    "METRIC_CHOICES = [\"sat\", \"unsat\",\"unsat_sat\"]\n",
    "SELECTOR_CHOICES = [\"greedy\", \"weighted\"]\n",
    "ALGO_CHOICES = []\n",
    "metric_name = METRIC_CHOICES[0] \n",
    "selector_name = SELECTOR_CHOICES[0]\n",
    "selector = BitSelector(selector_name)\n",
    "metric = Metric(metric_name)\n",
    "\n",
    "algo_name = metric_name + \"_\" + selector_name\n",
    "algo_params = {\"max_iter\" : int(1e3), \"metric\" : metric, \"selector\":selector}\n",
    "\n"
   ]
  },
  {
   "cell_type": "code",
   "execution_count": null,
   "metadata": {},
   "outputs": [],
   "source": []
  },
  {
   "cell_type": "code",
   "execution_count": 46,
   "metadata": {},
   "outputs": [],
   "source": [
    "algo = BitFlipAlgo(algo_name=algo_name, algo_params=algo_params)"
   ]
  },
  {
   "cell_type": "code",
   "execution_count": 61,
   "metadata": {},
   "outputs": [],
   "source": [
    "class Stats():\n",
    "    def __init__(self, l1_dist, absolute_correct, is_codeword):\n",
    "        self.l1_dist = l1_dist\n",
    "        self.absolute_correct = absolute_correct\n",
    "        self.is_codeword = is_codeword"
   ]
  },
  {
   "cell_type": "code",
   "execution_count": 62,
   "metadata": {},
   "outputs": [],
   "source": [
    "import itertools\n",
    "\n",
    "def benchmark_algo(algorithm, codes_per_case, trials_per_code):\n",
    "    stats = {}\n",
    "    n = [10, 100, 1000]\n",
    "    # rate = [0.01, 0.1, 0.5]\n",
    "    frac_of_errs = [0.1, 0.25, 0.4]\n",
    "    cases = list(itertools.product(n, frac_of_errs))\n",
    "    d_v = 4\n",
    "    d_c = 5\n",
    "    snr = 200\n",
    "\n",
    "\n",
    "    for case in tqdm(cases):\n",
    "        n, frac_of_errs = case\n",
    "        \n",
    "        for code in range(codes_per_case):\n",
    "            H, G = make_ldpc(n, d_v, d_c, systematic=True, sparse=True)\n",
    "            k = G.shape[1]\n",
    "            v = np.random.randint(2, size=k)\n",
    "            y = encode(G, v, snr)\n",
    "            \n",
    "            l1_dist = 0\n",
    "            num_abs_correct = 0\n",
    "            num_valid_codeword = 0\n",
    "            \n",
    "            for trial in range(trials_per_code):\n",
    "                y = add_error(y, int(frac_of_errs*n))\n",
    "                \n",
    "                y_list = algorithm.decode(H, y)\n",
    "                decode_y = y_list[-1]\n",
    "                y = y.astype(int)\n",
    "                decode_y = decode_y.astype(int)\n",
    "                l1_dist += np.absolute(decode_y - y)\n",
    "                num_abs_correct += 1 if (decode_y == y).all() else 0\n",
    "                num_valid_codeword += 1 if (H@decode_y).all() == 0 else 0\n",
    "\n",
    "            stats[code] = Stats(l1_dist/trials_per_code, num_abs_correct/trials_per_code, num_valid_codeword/trials_per_code)\n",
    "            \n",
    "    return stats"
   ]
  },
  {
   "cell_type": "code",
   "execution_count": 63,
   "metadata": {},
   "outputs": [
    {
     "name": "stderr",
     "output_type": "stream",
     "text": [
      "  0%|          | 0/9 [00:00<?, ?it/s]/tmp/ipykernel_68230/2104473358.py:31: DeprecationWarning: elementwise comparison failed; this will raise an error in the future.\n",
      "  if syndrome == np.zeros(y.shape[0]):\n",
      "100%|██████████| 1000/1000 [00:00<00:00, 19352.49it/s]\n",
      "100%|██████████| 1000/1000 [00:00<00:00, 21302.24it/s]\n",
      "100%|██████████| 1000/1000 [00:00<00:00, 24985.13it/s]\n",
      "100%|██████████| 1000/1000 [00:00<00:00, 16337.41it/s]\n",
      "100%|██████████| 1000/1000 [00:00<00:00, 21164.22it/s]\n",
      "100%|██████████| 1000/1000 [00:00<00:00, 15896.19it/s]\n",
      "100%|██████████| 1000/1000 [00:07<00:00, 134.06it/s]\n",
      "100%|██████████| 1000/1000 [00:06<00:00, 153.14it/s]\n",
      "100%|██████████| 1000/1000 [00:07<00:00, 142.45it/s]\n",
      "100%|██████████| 9/9 [00:23<00:00,  2.66s/it]\n"
     ]
    }
   ],
   "source": [
    "stats = benchmark_algo(algo,1,1)"
   ]
  },
  {
   "cell_type": "code",
   "execution_count": 64,
   "metadata": {},
   "outputs": [],
   "source": [
    "from decoder import add_error"
   ]
  },
  {
   "cell_type": "code",
   "execution_count": 70,
   "metadata": {},
   "outputs": [
    {
     "data": {
      "text/plain": [
       "0.0"
      ]
     },
     "execution_count": 70,
     "metadata": {},
     "output_type": "execute_result"
    }
   ],
   "source": [
    "stats[0].absolute_correct"
   ]
  },
  {
   "cell_type": "code",
   "execution_count": null,
   "metadata": {},
   "outputs": [],
   "source": []
  }
 ],
 "metadata": {
  "kernelspec": {
   "display_name": "Python 3",
   "language": "python",
   "name": "python3"
  },
  "language_info": {
   "codemirror_mode": {
    "name": "ipython",
    "version": 3
   },
   "file_extension": ".py",
   "mimetype": "text/x-python",
   "name": "python",
   "nbconvert_exporter": "python",
   "pygments_lexer": "ipython3",
   "version": "3.8.5"
  },
  "vscode": {
   "interpreter": {
    "hash": "25e6c706ca477e2353f2c690074222c97c3930a4dafa0acb4d599ba45040d9c3"
   }
  }
 },
 "nbformat": 4,
 "nbformat_minor": 2
}
