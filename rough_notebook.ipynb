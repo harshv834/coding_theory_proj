{
 "cells": [
  {
   "cell_type": "code",
   "execution_count": 5,
   "metadata": {},
   "outputs": [],
   "source": [
    "%load_ext autoreload\n",
    "%autoreload 2"
   ]
  },
  {
   "cell_type": "code",
   "execution_count": 1,
   "metadata": {},
   "outputs": [
    {
     "name": "stdout",
     "output_type": "stream",
     "text": [
      "Collecting pyldpc\n",
      "  Downloading pyldpc-0.7.9.tar.gz (1.1 MB)\n",
      "Requirement already satisfied: numpy in c:\\users\\myros\\anaconda3\\lib\\site-packages (from pyldpc) (1.19.2)\n",
      "Requirement already satisfied: scipy in c:\\users\\myros\\anaconda3\\lib\\site-packages (from pyldpc) (1.6.1)\n",
      "Requirement already satisfied: numba in c:\\users\\myros\\anaconda3\\lib\\site-packages (from pyldpc) (0.53.0)\n",
      "Requirement already satisfied: llvmlite<0.37,>=0.36.0rc1 in c:\\users\\myros\\anaconda3\\lib\\site-packages (from numba->pyldpc) (0.36.0)\n",
      "Requirement already satisfied: setuptools in c:\\users\\myros\\anaconda3\\lib\\site-packages (from numba->pyldpc) (52.0.0.post20210125)\n",
      "Building wheels for collected packages: pyldpc\n",
      "  Building wheel for pyldpc (setup.py): started\n",
      "  Building wheel for pyldpc (setup.py): finished with status 'done'\n",
      "  Created wheel for pyldpc: filename=pyldpc-0.7.9-py3-none-any.whl size=14307 sha256=a1a31d20cf86600534e1abcc5e24b408cf47fc5bdc917056cb2ae61169ada33d\n",
      "  Stored in directory: c:\\users\\myros\\appdata\\local\\pip\\cache\\wheels\\00\\f1\\5f\\d89afe3e8ba95547a385c49f048742fb3fd0aab91eb274c490\n",
      "Successfully built pyldpc\n",
      "Installing collected packages: pyldpc\n",
      "Successfully installed pyldpc-0.7.9\n",
      "Note: you may need to restart the kernel to use updated packages.\n"
     ]
    }
   ],
   "source": [
    "pip install --upgrade pyldpc"
   ]
  },
  {
   "cell_type": "code",
   "execution_count": 1,
   "metadata": {},
   "outputs": [],
   "source": [
    "import numpy as np\n",
    "from pyldpc import make_ldpc, encode, decode, get_message\n",
    "\n",
    "n = 15\n",
    "d_v = 4\n",
    "d_c = 5\n",
    "snr = 200\n",
    "H, G = make_ldpc(n, d_v, d_c, systematic=True, sparse=True)\n",
    "k = G.shape[1]\n",
    "v = np.random.randint(2, size=k)\n",
    "y = encode(G, v, snr)\n",
    "d = decode(H, y, snr)\n",
    "x = get_message(G, d)\n",
    "assert abs(x - v).sum() == 0"
   ]
  },
  {
   "cell_type": "code",
   "execution_count": 3,
   "metadata": {},
   "outputs": [],
   "source": [
    "from decoder import bit_flip_dec"
   ]
  },
  {
   "cell_type": "code",
   "execution_count": 4,
   "metadata": {},
   "outputs": [
    {
     "name": "stderr",
     "output_type": "stream",
     "text": [
      "100%|███████████████████████████████████████████████████████████████████████████| 1000/1000 [00:00<00:00, 21708.75it/s]\n"
     ]
    }
   ],
   "source": [
    "decoded_x = bit_flip_dec(H,y)"
   ]
  },
  {
   "cell_type": "code",
   "execution_count": 6,
   "metadata": {},
   "outputs": [
    {
     "ename": "ValueError",
     "evalue": "operands could not be broadcast together with shapes (6,) (15,) ",
     "output_type": "error",
     "traceback": [
      "\u001b[1;31m---------------------------------------------------------------------------\u001b[0m",
      "\u001b[1;31mValueError\u001b[0m                                Traceback (most recent call last)",
      "\u001b[1;32m<ipython-input-6-ef34db00ff19>\u001b[0m in \u001b[0;36m<module>\u001b[1;34m\u001b[0m\n\u001b[1;32m----> 1\u001b[1;33m \u001b[0mabs\u001b[0m\u001b[1;33m(\u001b[0m\u001b[0mx\u001b[0m \u001b[1;33m-\u001b[0m \u001b[0mdecoded_x\u001b[0m\u001b[1;33m)\u001b[0m\u001b[1;33m.\u001b[0m\u001b[0msum\u001b[0m\u001b[1;33m(\u001b[0m\u001b[1;33m)\u001b[0m \u001b[1;31m#comparison with pyldpc decoder\u001b[0m\u001b[1;33m\u001b[0m\u001b[1;33m\u001b[0m\u001b[0m\n\u001b[0m",
      "\u001b[1;31mValueError\u001b[0m: operands could not be broadcast together with shapes (6,) (15,) "
     ]
    }
   ],
   "source": [
    "abs(x - decoded_x).sum() #comparison with pyldpc decoder"
   ]
  },
  {
   "cell_type": "code",
   "execution_count": 8,
   "metadata": {},
   "outputs": [
    {
     "data": {
      "text/plain": [
       "(15,)"
      ]
     },
     "execution_count": 8,
     "metadata": {},
     "output_type": "execute_result"
    }
   ],
   "source": [
    "abs(x - v).sum() #comparison with input msg"
   ]
  },
  {
   "cell_type": "code",
   "execution_count": 14,
   "metadata": {},
   "outputs": [
    {
     "data": {
      "text/plain": [
       "array([-1., -1., -1., -1.,  1.,  1., -1.,  1., -1., -1., -1.,  1.,  1.,\n",
       "        1.,  1.])"
      ]
     },
     "execution_count": 14,
     "metadata": {},
     "output_type": "execute_result"
    }
   ],
   "source": [
    "y"
   ]
  },
  {
   "cell_type": "code",
   "execution_count": 12,
   "metadata": {},
   "outputs": [
    {
     "data": {
      "text/plain": [
       "array([0, 0, 1, 1, 1, 0])"
      ]
     },
     "execution_count": 12,
     "metadata": {},
     "output_type": "execute_result"
    }
   ],
   "source": [
    "v"
   ]
  },
  {
   "cell_type": "code",
   "execution_count": 24,
   "metadata": {},
   "outputs": [
    {
     "data": {
      "text/plain": [
       "array([ 0,  1,  2,  3,  4,  5,  6,  7,  8,  9, 10, 11])"
      ]
     },
     "execution_count": 24,
     "metadata": {},
     "output_type": "execute_result"
    }
   ],
   "source": [
    "np.arange(H.shape[0])[(H @ y) != 0]"
   ]
  },
  {
   "cell_type": "code",
   "execution_count": 18,
   "metadata": {},
   "outputs": [
    {
     "data": {
      "text/plain": [
       "(15,)"
      ]
     },
     "execution_count": 18,
     "metadata": {},
     "output_type": "execute_result"
    }
   ],
   "source": [
    "y.shape"
   ]
  },
  {
   "cell_type": "code",
   "execution_count": 21,
   "metadata": {},
   "outputs": [
    {
     "data": {
      "text/plain": [
       "(12,)"
      ]
     },
     "execution_count": 21,
     "metadata": {},
     "output_type": "execute_result"
    }
   ],
   "source": [
    "(H @ y).shape"
   ]
  },
  {
   "cell_type": "code",
   "execution_count": null,
   "metadata": {},
   "outputs": [],
   "source": []
  }
 ],
 "metadata": {
  "kernelspec": {
   "display_name": "Python 3",
   "language": "python",
   "name": "python3"
  },
  "language_info": {
   "codemirror_mode": {
    "name": "ipython",
    "version": 3
   },
   "file_extension": ".py",
   "mimetype": "text/x-python",
   "name": "python",
   "nbconvert_exporter": "python",
   "pygments_lexer": "ipython3",
   "version": "3.8.5"
  },
  "vscode": {
   "interpreter": {
    "hash": "25a19fbe0a9132dfb9279d48d161753c6352f8f9478c2e74383d340069b907c3"
   }
  }
 },
 "nbformat": 4,
 "nbformat_minor": 2
}
